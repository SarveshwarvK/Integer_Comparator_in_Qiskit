{
 "cells": [
  {
   "cell_type": "code",
   "execution_count": 3,
   "id": "f66b72b9",
   "metadata": {
    "scrolled": true
   },
   "outputs": [],
   "source": [
    "from qiskit import QuantumCircuit, QuantumRegister, ClassicalRegister, Aer, execute\n",
    "from qiskit import *\n",
    "from qiskit.quantum_info import Operator\n"
   ]
  },
  {
   "cell_type": "code",
   "execution_count": 14,
   "id": "79145926",
   "metadata": {},
   "outputs": [],
   "source": [
    "def Rectangle(a,b,c,d):\n",
    "\n",
    "    n = max(a.bit_length(), b.bit_length(), c.bit_length(), d.bit_length())\n",
    "    qr_a = QuantumRegister(n, name='a')\n",
    "    qr_b = QuantumRegister(n, name='b')\n",
    "    qr_c = QuantumRegister(n, name='c')\n",
    "    qr_d = QuantumRegister(n, name='d')\n",
    "\n",
    "    p = QuantumCircuit(qr_a)\n",
    "    q = QuantumCircuit(qr_b)\n",
    "    r = QuantumCircuit(qr_c)\n",
    "    s = QuantumCircuit(qr_d)\n",
    "\n",
    "\n",
    "    a_bits = [int(bit) for bit in bin(a & (2**n-1))[2:]]\n",
    "    b_bits = [int(bit) for bit in bin(b & (2**n-1))[2:]]\n",
    "    c_bits = [int(bit) for bit in bin(c & (2**n-1))[2:]]\n",
    "    d_bits = [int(bit) for bit in bin(d & (2**n-1))[2:]]\n",
    "\n",
    "    a_bits.reverse()\n",
    "    b_bits.reverse()\n",
    "    c_bits.reverse()\n",
    "    d_bits.reverse()\n",
    "\n",
    "    for i, bit in enumerate(a_bits):\n",
    "        if bit == 1:\n",
    "            p.x(qr_a[i])\n",
    "    for i, bit in enumerate(b_bits):\n",
    "        if bit == 1:\n",
    "            q.x(qr_b[i])\n",
    "\n",
    "    for i, bit in enumerate(c_bits):\n",
    "        if bit == 1:\n",
    "            r.x(qr_c[i])\n",
    "    for i, bit in enumerate(d_bits):\n",
    "        if bit == 1:\n",
    "            s.x(qr_d[i])\n",
    "\n",
    "    def Eq(x,y):\n",
    "        Op1 = Operator(x)\n",
    "        Op2 = Operator(y)\n",
    "        return Op1.equiv(Op2)\n",
    "\n",
    "    if ((Eq(p,q) and Eq(s,r)) or (Eq(p,r) and Eq(q,s)) or (Eq(p,s) and Eq(q,r))):\n",
    "        print(\"The given input creates a Rectangle\")\n",
    "    else:\n",
    "        print(\"Not exactly a rectangle but a Quadrilateral\")"
   ]
  },
  {
   "cell_type": "code",
   "execution_count": 15,
   "id": "33ffbe65",
   "metadata": {},
   "outputs": [
    {
     "name": "stdout",
     "output_type": "stream",
     "text": [
      "The given input creates a Rectangle\n",
      "Not exactly a rectangle but a Quadrilateral\n"
     ]
    }
   ],
   "source": [
    "Rectangle(2,3,2,3)\n",
    "Rectangle(2,3,2,4)"
   ]
  },
  {
   "cell_type": "code",
   "execution_count": null,
   "id": "00913002",
   "metadata": {},
   "outputs": [],
   "source": []
  }
 ],
 "metadata": {
  "kernelspec": {
   "display_name": "Python 3 (ipykernel)",
   "language": "python",
   "name": "python3"
  },
  "language_info": {
   "codemirror_mode": {
    "name": "ipython",
    "version": 3
   },
   "file_extension": ".py",
   "mimetype": "text/x-python",
   "name": "python",
   "nbconvert_exporter": "python",
   "pygments_lexer": "ipython3",
   "version": "3.10.0"
  }
 },
 "nbformat": 4,
 "nbformat_minor": 5
}
